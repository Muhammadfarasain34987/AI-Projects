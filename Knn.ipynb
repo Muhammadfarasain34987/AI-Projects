{
  "cells": [
    {
      "cell_type": "markdown",
      "metadata": {
        "id": "view-in-github",
        "colab_type": "text"
      },
      "source": [
        "<a href=\"https://colab.research.google.com/github/Muhammadfarasain34987/AI-Projects/blob/main/Knn.ipynb\" target=\"_parent\"><img src=\"https://colab.research.google.com/assets/colab-badge.svg\" alt=\"Open In Colab\"/></a>"
      ]
    },
    {
      "cell_type": "code",
      "execution_count": null,
      "id": "46e22bda",
      "metadata": {
        "id": "46e22bda"
      },
      "outputs": [],
      "source": [
        "import numpy as np\n",
        "import matplotlib.pyplot as plt\n",
        "from sklearn.neighbors import KNeighborsClassifier\n",
        "from sklearn.metrics import accuracy_score\n",
        "from sklearn.model_selection import train_test_split\n",
        "from sklearn.model_selection import cross_val_score\n"
      ]
    },
    {
      "cell_type": "code",
      "execution_count": null,
      "id": "1c2d2469",
      "metadata": {
        "id": "1c2d2469"
      },
      "outputs": [],
      "source": [
        "xBlue = np.array([0.3, 0.5, 1, 1.4, 1.7, 2])\n",
        "yBlue = np.array([1, 4.5, 2.3, 1.9, 8.9, 4.1])"
      ]
    },
    {
      "cell_type": "code",
      "execution_count": null,
      "id": "83bc0bb1",
      "metadata": {
        "id": "83bc0bb1"
      },
      "outputs": [],
      "source": [
        "xRed = np.array([3.3, 3.5, 4, 4.4, 5.7, 6])\n",
        "yRed = np.array([7, 1.5, 6.3, 1.9, 2.9, 7.1])"
      ]
    },
    {
      "cell_type": "code",
      "execution_count": null,
      "id": "863da111",
      "metadata": {
        "id": "863da111"
      },
      "outputs": [],
      "source": [
        "X = np.array([\n",
        "    [0.3, 1], [0.5, 4.5], [1, 2.3], [1.4, 1.9], [1.7, 8.9], [2, 4.1],\n",
        "    [3.3, 7], [3.5, 1.5], [4, 6.3], [4.4, 1.9], [5.7, 2.9], [6, 7.1]\n",
        "])\n",
        "y = np.array([0, 0, 0, 0, 0, 0, 1, 1, 1, 1, 1, 1])"
      ]
    },
    {
      "cell_type": "code",
      "execution_count": null,
      "id": "2e809dc1",
      "metadata": {
        "id": "2e809dc1",
        "outputId": "bf38d456-8a8d-45ac-e831-958cc047ecaf"
      },
      "outputs": [
        {
          "data": {
            "text/plain": [
              "<matplotlib.legend.Legend at 0x2300c964c90>"
            ]
          },
          "execution_count": 5,
          "metadata": {},
          "output_type": "execute_result"
        },
        {
          "data": {
            "image/png": "[encoded data removed]",
            "text/plain": [
              "<Figure size 640x480 with 1 Axes>"
            ]
          },
          "metadata": {},
          "output_type": "display_data"
        }
      ],
      "source": [
        "plt.plot(xBlue, yBlue, 'o', color='blue', label='Blue Points')\n",
        "plt.plot(xRed, yRed, 'o', color='red', label='Red Points')\n",
        "plt.plot(1,1, 'o', color='green', markersize=15, label='Query Point')\n",
        "plt.axis([-0.5, 10, -0.5, 10])\n",
        "plt.legend()"
      ]
    },
    {
      "cell_type": "code",
      "execution_count": null,
      "id": "09fed4e4",
      "metadata": {
        "id": "09fed4e4"
      },
      "outputs": [],
      "source": []
    },
    {
      "cell_type": "code",
      "execution_count": null,
      "id": "d845077e",
      "metadata": {
        "id": "d845077e",
        "outputId": "cb7e2756-e018-4315-f2bc-784eeea53da4"
      },
      "outputs": [
        {
          "name": "stdout",
          "output_type": "stream",
          "text": [
            "Prediction for point [1, 1]: [0]\n"
          ]
        }
      ],
      "source": [
        "classifier = KNeighborsClassifier(n_neighbors=3)\n",
        "classifier.fit(X, y)\n",
        "\n",
        "# Predict the class of the new point\n",
        "pred = classifier.predict(np.array([[1, 1]]))\n",
        "print(f\"Prediction for point [1, 1]: {pred}\")\n",
        "\n",
        "plt.show()"
      ]
    },
    {
      "cell_type": "code",
      "execution_count": null,
      "id": "88ee4440",
      "metadata": {
        "id": "88ee4440"
      },
      "outputs": [],
      "source": []
    },
    {
      "cell_type": "code",
      "execution_count": null,
      "id": "b3858c8d",
      "metadata": {
        "id": "b3858c8d"
      },
      "outputs": [],
      "source": []
    },
    {
      "cell_type": "code",
      "execution_count": null,
      "id": "7d0b84dc",
      "metadata": {
        "id": "7d0b84dc"
      },
      "outputs": [],
      "source": []
    },
    {
      "cell_type": "code",
      "execution_count": null,
      "id": "50a5b842",
      "metadata": {
        "id": "50a5b842"
      },
      "outputs": [],
      "source": []
    }
  ],
  "metadata": {
    "kernelspec": {
      "display_name": "Python 3",
      "language": "python",
      "name": "python3"
    },
    "language_info": {
      "codemirror_mode": {
        "name": "ipython",
        "version": 3
      },
      "file_extension": ".py",
      "mimetype": "text/x-python",
      "name": "python",
      "nbconvert_exporter": "python",
      "pygments_lexer": "ipython3",
      "version": "3.11.5"
    },
    "colab": {
      "provenance": [],
      "include_colab_link": true
    }
  },
  "nbformat": 4,
  "nbformat_minor": 5
}